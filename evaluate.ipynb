{
 "cells": [
  {
   "cell_type": "code",
   "execution_count": 21,
   "metadata": {
    "scrolled": true
   },
   "outputs": [
    {
     "name": "stdout",
     "output_type": "stream",
     "text": [
      "The autoreload extension is already loaded. To reload it, use:\n",
      "  %reload_ext autoreload\n"
     ]
    }
   ],
   "source": [
    "import csv\n",
    "import numpy as np\n",
    "import keras\n",
    "import os\n",
    "from scipy.misc import imread\n",
    "import keras.backend as K\n",
    "import tensorflow as tf\n",
    "from keras.layers import Flatten, Dense, Dropout\n",
    "from keras import regularizers\n",
    "from keras.models import Model\n",
    "from DataGenerator import DataGenerator\n",
    "from keras.utils import multi_gpu_model\n",
    "\n",
    "test_dir = 'TestDataset'\n",
    "num_classes = 14951\n",
    "\n",
    "%load_ext autoreload\n",
    "%autoreload 2"
   ]
  },
  {
   "cell_type": "code",
   "execution_count": 22,
   "metadata": {},
   "outputs": [],
   "source": [
    "data_dir = 'ReducedTrainDatasets/Train0'\n",
    "label_to_class = {}\n",
    "for i, class_dir in enumerate(os.listdir(data_dir)):\n",
    "    label_to_class[i] = int(class_dir)"
   ]
  },
  {
   "cell_type": "code",
   "execution_count": 29,
   "metadata": {},
   "outputs": [],
   "source": [
    "def declare_model(reg=0):\n",
    "    resnet = keras.applications.resnet50.ResNet50(include_top=False,\n",
    "     weights=\"imagenet\",\n",
    "     input_shape=(224,224,3),\n",
    "     pooling=None)\n",
    "    # We will train the last 12 layers of ResNET and leave the others unchanged\n",
    "    for layer in resnet.layers[:-8]:\n",
    "        layer.trainable = False\n",
    "\n",
    "    x = resnet.output\n",
    "    x = Flatten()(x)\n",
    "    x = Dropout(0.3)(x)\n",
    "    #x = Dense(num_classes, activation='relu', kernel_regularizer=regularizers.l2(reg))(x)\n",
    "    scores = Dense(8763, activation='softmax', kernel_regularizer=regularizers.l2(reg))(x)\n",
    "\n",
    "    return Model(inputs=resnet.inputs, outputs=scores)"
   ]
  },
  {
   "cell_type": "code",
   "execution_count": 30,
   "metadata": {},
   "outputs": [],
   "source": [
    "K.clear_session()\n",
    "model = declare_model(reg=0)\n",
    "run_opts = tf.RunOptions(report_tensor_allocations_upon_oom=True)\n",
    "adam = keras.optimizers.Adam(lr=5e-4)\n",
    "#parallel_model = multi_gpu_model(model, gpus=2)\n",
    "model.compile(optimizer=adam, loss='categorical_crossentropy', metrics=['accuracy'], options=run_opts)\n",
    "model.load_weights('models/train0_reduced_weights.h5')"
   ]
  },
  {
   "cell_type": "code",
   "execution_count": 31,
   "metadata": {},
   "outputs": [],
   "source": [
    "def load_im_list(test_dir):\n",
    "    ims = []\n",
    "    keys = []\n",
    "    for im in os.listdir(test_dir):\n",
    "        img = os.path.join(test_dir, im)\n",
    "        ims.append(img)\n",
    "        keys.append(im[:-4])\n",
    "    return ims, keys"
   ]
  },
  {
   "cell_type": "code",
   "execution_count": 32,
   "metadata": {},
   "outputs": [
    {
     "name": "stdout",
     "output_type": "stream",
     "text": [
      "(115264, 8763)\n",
      "[2.8637714e-10 1.2810162e-11 4.9347814e-13 ... 2.3993360e-08 3.9018483e-10\n",
      " 4.0821605e-13]\n"
     ]
    }
   ],
   "source": [
    "ims, keys = load_im_list(test_dir)\n",
    "test_generator = DataGenerator(ims, None, 1, n_classes=num_classes, batch_size=64, shuffle=False)\n",
    "preds = model.predict_generator(test_generator, use_multiprocessing=True, workers=6)\n",
    "print(preds.shape)\n",
    "print(preds[0])\n",
    "\n",
    "labels = np.argmax(preds, axis=1)\n",
    "confidence = preds[range(preds.shape[0]), labels]\n",
    "\n",
    "d = {}\n",
    "with open('CSV-files/test.csv') as f:\n",
    "    reader = csv.DictReader(f)\n",
    "    for row in reader:\n",
    "        d[row['id']] = '0 0.00'\n",
    "\n",
    "for k, l, c in zip(keys, labels, confidence):\n",
    "    d[k] = '{} {:0.2f}'.format(label_to_class[l], c)\n",
    "    \n",
    "with open('CSV-files/submission_reduced2.csv', 'w') as f:\n",
    "    fieldnames = ['id', 'landmarks']\n",
    "    writer = csv.DictWriter(f, fieldnames=fieldnames)\n",
    "    writer.writeheader()\n",
    "    for k, v in d.items():\n",
    "        writer.writerow({'id':k, 'landmarks': v})\n",
    "\n",
    "\n",
    "\n"
   ]
  },
  {
   "cell_type": "code",
   "execution_count": 9,
   "metadata": {},
   "outputs": [
    {
     "data": {
      "text/plain": [
       "6051"
      ]
     },
     "execution_count": 9,
     "metadata": {},
     "output_type": "execute_result"
    }
   ],
   "source": [
    "label_to_class[4707]"
   ]
  },
  {
   "cell_type": "code",
   "execution_count": 20,
   "metadata": {},
   "outputs": [],
   "source": [
    "np.save('preds/preds_train0.npy', preds)"
   ]
  },
  {
   "cell_type": "code",
   "execution_count": 8,
   "metadata": {},
   "outputs": [
    {
     "data": {
      "text/plain": [
       "array([ 4443, 11955, 14426, 14679, 11472,  4860,  4011,  9434,  3943,\n",
       "        5987, 10634, 12125,  4011,  3096, 13780, 10649, 10940, 12218,\n",
       "         428,  4011, 14426,  2810,  7746,  4011,  2806, 12658, 13256,\n",
       "       11452,  4528, 11394,  7673, 13827,   428,  7070,  2495, 11998,\n",
       "        1553,  7058, 12965, 14748,  1157,  9927,  2717,  3965,  5010,\n",
       "        9841, 13749, 14037, 11054,   304, 12218,  8167, 10688,  9657,\n",
       "        9618,  2717,   428, 13171,  9135, 11362,  8726,  5778,  4562,\n",
       "       13883,  6957,  1296, 11580,   428,  6442,   428,   189, 14753,\n",
       "       13827,  1296,  3096,  2196,  3090,   511, 13611,  1915,  2424,\n",
       "        8726,  4034,  1749,   304,  2761,  9740,  1553,  4523,  2940,\n",
       "         428,  4436, 13875,  5929,  2885, 14797,  4682, 13875,  1042,\n",
       "        7774])"
      ]
     },
     "execution_count": 8,
     "metadata": {},
     "output_type": "execute_result"
    }
   ],
   "source": [
    "np.argmax(preds, axis=1)[:100]"
   ]
  },
  {
   "cell_type": "code",
   "execution_count": 9,
   "metadata": {},
   "outputs": [
    {
     "name": "stdout",
     "output_type": "stream",
     "text": [
      "0.41733626\n"
     ]
    }
   ],
   "source": [
    "labels = np.argmax(preds, axis=1)\n",
    "confidence = preds[range(preds.shape[0]),labels]\n",
    "print(np.mean(confidence))"
   ]
  },
  {
   "cell_type": "code",
   "execution_count": 11,
   "metadata": {},
   "outputs": [
    {
     "data": {
      "image/png": "[encoded data removed]",
      "text/plain": [
       "<matplotlib.figure.Figure at 0x7f9b7c0fa0b8>"
      ]
     },
     "metadata": {},
     "output_type": "display_data"
    }
   ],
   "source": [
    "import matplotlib.pyplot as plt\n",
    "plt.figure()\n",
    "plt.hist(labels, bins=500)\n",
    "plt.show()"
   ]
  },
  {
   "cell_type": "code",
   "execution_count": 13,
   "metadata": {},
   "outputs": [
    {
     "data": {
      "text/plain": [
       "4443"
      ]
     },
     "execution_count": 13,
     "metadata": {},
     "output_type": "execute_result"
    }
   ],
   "source": [
    "labels[0]"
   ]
  },
  {
   "cell_type": "code",
   "execution_count": 14,
   "metadata": {},
   "outputs": [
    {
     "data": {
      "text/plain": [
       "'8970f4e3ecc4d6b6'"
      ]
     },
     "execution_count": 14,
     "metadata": {},
     "output_type": "execute_result"
    }
   ],
   "source": [
    "keys[0]"
   ]
  },
  {
   "cell_type": "code",
   "execution_count": 17,
   "metadata": {},
   "outputs": [
    {
     "data": {
      "text/plain": [
       "0.9929737"
      ]
     },
     "execution_count": 17,
     "metadata": {},
     "output_type": "execute_result"
    }
   ],
   "source": [
    "preds[0][4443]"
   ]
  },
  {
   "cell_type": "code",
   "execution_count": null,
   "metadata": {},
   "outputs": [],
   "source": []
  }
 ],
 "metadata": {
  "kernelspec": {
   "display_name": "Python 3",
   "language": "python",
   "name": "python3"
  },
  "language_info": {
   "codemirror_mode": {
    "name": "ipython",
    "version": 3
   },
   "file_extension": ".py",
   "mimetype": "text/x-python",
   "name": "python",
   "nbconvert_exporter": "python",
   "pygments_lexer": "ipython3",
   "version": "3.6.4"
  }
 },
 "nbformat": 4,
 "nbformat_minor": 2
}
