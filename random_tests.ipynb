{
 "cells": [
  {
   "cell_type": "code",
   "execution_count": 3,
   "metadata": {},
   "outputs": [],
   "source": [
    "def superset(list_):\n",
    "    sets = [set([])]\n",
    "    for n in list_:\n",
    "        sets.extend([s | {n} for s in sets])\n",
    "    return sets"
   ]
  },
  {
   "cell_type": "code",
   "execution_count": 4,
   "metadata": {},
   "outputs": [
    {
     "name": "stdout",
     "output_type": "stream",
     "text": [
      "[set(), {'a'}, {'b'}, {'a', 'b'}]\n"
     ]
    }
   ],
   "source": [
    "numbers = ['a','b']\n",
    "ss = superset(numbers)\n",
    "print(ss)"
   ]
  },
  {
   "cell_type": "code",
   "execution_count": 8,
   "metadata": {},
   "outputs": [
    {
     "data": {
      "text/plain": [
       "['', 'a', 'b', 'ab']"
      ]
     },
     "execution_count": 8,
     "metadata": {},
     "output_type": "execute_result"
    }
   ],
   "source": [
    "[''.join(s) for s in ss]"
   ]
  },
  {
   "cell_type": "code",
   "execution_count": 9,
   "metadata": {},
   "outputs": [],
   "source": [
    "all_ = {'1': [1,2], '2': [2,3], '3': [3,4], '4': [4,5], '5': [5,6]}"
   ]
  },
  {
   "cell_type": "code",
   "execution_count": 10,
   "metadata": {},
   "outputs": [],
   "source": [
    "import random"
   ]
  },
  {
   "cell_type": "code",
   "execution_count": 13,
   "metadata": {},
   "outputs": [
    {
     "data": {
      "text/plain": [
       "['3', '2', '1']"
      ]
     },
     "execution_count": 13,
     "metadata": {},
     "output_type": "execute_result"
    }
   ],
   "source": [
    "s = random.sample(list(all_), 3)\n",
    "s"
   ]
  },
  {
   "cell_type": "code",
   "execution_count": 15,
   "metadata": {},
   "outputs": [
    {
     "data": {
      "text/plain": [
       "{'4', '5'}"
      ]
     },
     "execution_count": 15,
     "metadata": {},
     "output_type": "execute_result"
    }
   ],
   "source": [
    "set(list(all_)) - set(s)"
   ]
  },
  {
   "cell_type": "code",
   "execution_count": 17,
   "metadata": {},
   "outputs": [
    {
     "name": "stdout",
     "output_type": "stream",
     "text": [
      "[set(), {'f'}, {'d'}, {'d', 'f'}, {'b'}, {'b', 'f'}, {'b', 'd'}, {'b', 'd', 'f'}, {'t'}, {'t', 'f'}, {'t', 'd'}, {'t', 'd', 'f'}, {'b', 't'}, {'t', 'b', 'f'}, {'b', 'd', 't'}, {'t', 'b', 'd', 'f'}, {'c'}, {'c', 'f'}, {'c', 'd'}, {'c', 'd', 'f'}, {'c', 'b'}, {'c', 'b', 'f'}, {'c', 'b', 'd'}, {'c', 'b', 'd', 'f'}, {'c', 't'}, {'c', 't', 'f'}, {'c', 't', 'd'}, {'c', 't', 'd', 'f'}, {'c', 'b', 't'}, {'t', 'c', 'b', 'f'}, {'c', 'b', 'd', 't'}, {'t', 'b', 'd', 'f', 'c'}]\n",
      "32\n"
     ]
    }
   ],
   "source": [
    "ss = superset(['f','d','b','t','c'])\n",
    "print(ss)\n",
    "print(len(ss))"
   ]
  },
  {
   "cell_type": "code",
   "execution_count": 18,
   "metadata": {},
   "outputs": [
    {
     "name": "stdout",
     "output_type": "stream",
     "text": [
      "[set(), {'f'}, {'d'}, {'d', 'f'}, {'b'}, {'b', 'f'}, {'b', 'd'}, {'b', 'd', 'f'}, {'c'}, {'c', 'f'}, {'c', 'd'}, {'c', 'd', 'f'}, {'c', 'b'}, {'c', 'b', 'f'}, {'c', 'b', 'd'}, {'c', 'b', 'd', 'f'}]\n",
      "16\n"
     ]
    }
   ],
   "source": [
    "ss = superset(['f','d','b','c'])\n",
    "print(ss)\n",
    "print(len(ss))"
   ]
  },
  {
   "cell_type": "code",
   "execution_count": null,
   "metadata": {},
   "outputs": [],
   "source": []
  }
 ],
 "metadata": {
  "kernelspec": {
   "display_name": "LD",
   "language": "python",
   "name": "ld"
  },
  "language_info": {
   "codemirror_mode": {
    "name": "ipython",
    "version": 3
   },
   "file_extension": ".py",
   "mimetype": "text/x-python",
   "name": "python",
   "nbconvert_exporter": "python",
   "pygments_lexer": "ipython3",
   "version": "3.6.5"
  }
 },
 "nbformat": 4,
 "nbformat_minor": 2
}
