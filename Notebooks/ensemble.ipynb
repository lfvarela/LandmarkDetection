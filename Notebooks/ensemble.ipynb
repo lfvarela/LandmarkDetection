{
 "cells": [
  {
   "cell_type": "code",
   "execution_count": 34,
   "metadata": {},
   "outputs": [],
   "source": [
    "import pandas as pd\n",
    "import numpy as np\n",
    "\n",
    "scores1 = np.load('preds/preds_train1.npy')\n",
    "scores2 = np.load('preds/preds_train2.npy')\n",
    "scores3 = ''"
   ]
  },
  {
   "cell_type": "code",
   "execution_count": 35,
   "metadata": {},
   "outputs": [],
   "source": [
    "def softmax(x):\n",
    "    x = x - np.max(x, axis=1, keepdims=True)\n",
    "    x = np.exp(x)\n",
    "    x = x/np.sum(x, axis=1, keepdims=True)\n",
    "    return x"
   ]
  },
  {
   "cell_type": "code",
   "execution_count": 36,
   "metadata": {},
   "outputs": [],
   "source": [
    "import os\n",
    "data_dir = 'ReducedTrainDatasets/Train1'\n",
    "label_to_class = {}\n",
    "for i, class_dir in enumerate(os.listdir(data_dir)):\n",
    "    label_to_class[i] = int(class_dir)"
   ]
  },
  {
   "cell_type": "code",
   "execution_count": 3,
   "metadata": {},
   "outputs": [],
   "source": []
  },
  {
   "cell_type": "code",
   "execution_count": 6,
   "metadata": {},
   "outputs": [
    {
     "data": {
      "text/plain": [
       "8763"
      ]
     },
     "execution_count": 6,
     "metadata": {},
     "output_type": "execute_result"
    }
   ],
   "source": []
  },
  {
   "cell_type": "code",
   "execution_count": 21,
   "metadata": {},
   "outputs": [
    {
     "name": "stdout",
     "output_type": "stream",
     "text": [
      "(115264, 8763)\n"
     ]
    }
   ],
   "source": []
  },
  {
   "cell_type": "code",
   "execution_count": 22,
   "metadata": {},
   "outputs": [],
   "source": [
    "def load_im_list(test_dir):\n",
    "    ims = []\n",
    "    keys = []\n",
    "    for im in os.listdir(test_dir):\n",
    "        img = os.path.join(test_dir, im)\n",
    "        ims.append(img)\n",
    "        keys.append(im[:-4])\n",
    "    return ims, keys"
   ]
  },
  {
   "cell_type": "code",
   "execution_count": 37,
   "metadata": {},
   "outputs": [],
   "source": [
    "test_dir = 'TestDataset'\n"
   ]
  },
  {
   "cell_type": "code",
   "execution_count": 40,
   "metadata": {},
   "outputs": [],
   "source": [
    "_, keys = load_im_list(test_dir)\n",
    "import csv\n",
    "\n",
    "labels1 = np.argmax(scores1, axis=1)\n",
    "labels2 = np.argmax(scores2, axis=1)\n",
    "\n",
    "confidence1 = np.max(scores1, axis=1)\n",
    "confidence2 = np.max(scores2, axis=1)\n",
    "\n",
    "labels = [labels1[i] if confidence1[i] > confidence2[i] else labels2[i] for i in range(scores1.shape[0])]\n",
    "confidence = np.maximum(confidence1, confidence2)\n",
    "\n",
    "d = {}\n",
    "with open('CSV-files/test.csv') as f:\n",
    "    reader = csv.DictReader(f)\n",
    "    for row in reader:\n",
    "        d[row['id']] = '0 0.00'\n",
    "\n",
    "for k, l, c in zip(keys, labels, confidence):\n",
    "    d[k] = '{} {:0.2f}'.format(label_to_class[l], c)\n",
    "    \n",
    "with open('CSV-files/submission_ensemble2.csv', 'w') as f:\n",
    "    fieldnames = ['id', 'landmarks']\n",
    "    writer = csv.DictWriter(f, fieldnames=fieldnames)\n",
    "    writer.writeheader()\n",
    "    for k, v in d.items():\n",
    "        writer.writerow({'id':k, 'landmarks': v})"
   ]
  },
  {
   "cell_type": "code",
   "execution_count": 28,
   "metadata": {},
   "outputs": [
    {
     "data": {
      "text/plain": [
       "7900"
      ]
     },
     "execution_count": 28,
     "metadata": {},
     "output_type": "execute_result"
    }
   ],
   "source": [
    "labels[0]"
   ]
  },
  {
   "cell_type": "code",
   "execution_count": 30,
   "metadata": {},
   "outputs": [
    {
     "data": {
      "text/plain": [
       "1.2240916"
      ]
     },
     "execution_count": 30,
     "metadata": {},
     "output_type": "execute_result"
    }
   ],
   "source": [
    "scores1[0,7900]"
   ]
  },
  {
   "cell_type": "code",
   "execution_count": 31,
   "metadata": {},
   "outputs": [
    {
     "data": {
      "text/plain": [
       "0.00038797615"
      ]
     },
     "execution_count": 31,
     "metadata": {},
     "output_type": "execute_result"
    }
   ],
   "source": [
    "confidence[0]"
   ]
  },
  {
   "cell_type": "code",
   "execution_count": 32,
   "metadata": {},
   "outputs": [
    {
     "data": {
      "text/plain": [
       "1.2240916"
      ]
     },
     "execution_count": 32,
     "metadata": {},
     "output_type": "execute_result"
    }
   ],
   "source": [
    "np.max(scores1[0])"
   ]
  },
  {
   "cell_type": "code",
   "execution_count": 33,
   "metadata": {},
   "outputs": [
    {
     "data": {
      "text/plain": [
       "0.9999999"
      ]
     },
     "execution_count": 33,
     "metadata": {},
     "output_type": "execute_result"
    }
   ],
   "source": [
    "np.sum(preds[0])"
   ]
  },
  {
   "cell_type": "code",
   "execution_count": null,
   "metadata": {},
   "outputs": [],
   "source": []
  }
 ],
 "metadata": {
  "kernelspec": {
   "display_name": "Python 3",
   "language": "python",
   "name": "python3"
  },
  "language_info": {
   "codemirror_mode": {
    "name": "ipython",
    "version": 3
   },
   "file_extension": ".py",
   "mimetype": "text/x-python",
   "name": "python",
   "nbconvert_exporter": "python",
   "pygments_lexer": "ipython3",
   "version": "3.6.4"
  }
 },
 "nbformat": 4,
 "nbformat_minor": 2
}
